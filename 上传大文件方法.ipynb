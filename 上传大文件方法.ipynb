{
 "cells": [
  {
   "cell_type": "code",
   "execution_count": null,
   "metadata": {
    "collapsed": true
   },
   "outputs": [],
   "source": [
    "# 进入需要上传的文件的路径下\n",
    "# git lfs install\n",
    "\n",
    "# 在您要使用 Git LFS 的每个 Git 存储库中，选择您希望 Git LFS 管理的文件类型（或直接编辑您的 .gitattributes）。您可以随时配置其他文件扩展名\n",
    "# git lfs migrate import --include=\"*.pdf\"\n",
    "# git lfs track \"*.pdf\"\n",
    "# .pdf可以修改为其他后缀\n",
    "\n",
    "# git add .gitattributes\n",
    "\n",
    "# git add --all\n",
    "# git commit -m \"Add design file\"\n",
    "# git push origin main\n",
    "####### main是分支名"
   ]
  }
 ],
 "metadata": {
  "kernelspec": {
   "display_name": "Python 3",
   "language": "python",
   "name": "python3"
  },
  "language_info": {
   "codemirror_mode": {
    "name": "ipython",
    "version": 2
   },
   "file_extension": ".py",
   "mimetype": "text/x-python",
   "name": "python",
   "nbconvert_exporter": "python",
   "pygments_lexer": "ipython2",
   "version": "2.7.6"
  }
 },
 "nbformat": 4,
 "nbformat_minor": 0
}